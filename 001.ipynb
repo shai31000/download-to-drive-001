{
  "nbformat": 4,
  "nbformat_minor": 0,
  "metadata": {
    "colab": {
      "provenance": []
    },
    "kernelspec": {
      "name": "python3",
      "display_name": "Python 3"
    },
    "language_info": {
      "name": "python"
    }
  },
  "cells": [
    {
      "cell_type": "markdown",
      "source": [
        "# 📁 הורד את הקובץ ישירות אל הדרייב שלך\n",
        "\n",
        "## 👋 שלום וברוך הבא!\n",
        "\n",
        "🔽 בלחיצה אחת תוכל להוריד את הקובץ הבא **ישירות לתיקייה ייעודית בדרייב שלך**, בלי להוריד למחשב ובלי להשתמש בתוכנות צד שלישי.\n",
        "\n",
        "---\n",
        "\n",
        "### 📝 שם הקובץ: `example.mp3`\n",
        "\n",
        "### 📦 מה יקרה עכשיו:\n",
        "1. תתחבר לחשבון Google שלך כדי לאפשר שמירה ל-Drive (נדרש אישור גישה **אחד בלבד**).\n",
        "2. לאחר החיבור, תלחץ על כפתור ▶️ (Run) בחלק של ההורדה.\n",
        "3. הקובץ ירד מהשרת החיצוני לתוך תיקייה בשם **\"הורד לדרייב\"** בדרייב שלך.\n",
        "\n",
        "---\n",
        "\n",
        "### ⚠️ חשוב מאוד:\n",
        "> ❗️ **אין לסגור את הכרטיסייה עד שתופיע הודעה שההורדה הסתיימה.**  \n",
        "> אם תסגור מוקדם – הקובץ לא יישמר בדרייב!\n",
        "\n",
        "---\n",
        "\n",
        "📸 **הכנס כאן צילום מסך של לחיצה על \"Run\" בחלק החיבור לדרייב**\n"
      ],
      "metadata": {
        "id": "_BJOhSZiN9id"
      }
    },
    {
      "cell_type": "code",
      "source": [
        "# @title\n",
        "# 🧷 התחבר ל-Google Drive של המשתמש (נדרש פעם אחת בלבד)\n",
        "from google.colab import drive\n",
        "drive.mount('/content/drive')\n"
      ],
      "metadata": {
        "colab": {
          "base_uri": "https://localhost:8080/"
        },
        "cellView": "form",
        "id": "dcNEvGpEOP2S",
        "outputId": "9dc7d94b-7f81-47b3-e9c9-deadb3548189"
      },
      "execution_count": null,
      "outputs": [
        {
          "output_type": "stream",
          "name": "stdout",
          "text": [
            "Drive already mounted at /content/drive; to attempt to forcibly remount, call drive.mount(\"/content/drive\", force_remount=True).\n"
          ]
        }
      ]
    },
    {
      "cell_type": "markdown",
      "source": [
        "📸 **הכנס כאן צילום מסך של לחיצה על \"Run\" בחלק ההורדה**\n"
      ],
      "metadata": {
        "id": "RJMd4Z02ORmu"
      }
    },
    {
      "cell_type": "code",
      "source": [
        "# @title\n",
        "# 📥 הורדה ישירה של הקובץ אל הדרייב\n",
        "\n",
        "import requests\n",
        "import os\n",
        "from urllib.parse import unquote, urlparse\n",
        "\n",
        "# 🔗 כאן תכניס את קישור ההורדה הישירה שלך:\n",
        "file_url = \"https://www.dropbox.com/scl/fi/1bnlcegqp6hfhpcbkz81m/video-format-factory-5-58.apk?rlkey=ekf42ijxwf77vg73trajsxz1l&st=x5ks19nc&dl=1\"\n",
        "\n",
        "# 🧠 חילוץ שם הקובץ מתוך הקישור\n",
        "def get_filename_from_url(url):\n",
        "    path = urlparse(url).path\n",
        "    filename = os.path.basename(path)\n",
        "    return unquote(filename)\n",
        "\n",
        "filename = get_filename_from_url(file_url)\n",
        "\n",
        "# 📂 יצירת תיקייה \"הורד לדרייב\" אם לא קיימת\n",
        "save_folder = \"/content/drive/My Drive/הורד לדרייב\"\n",
        "os.makedirs(save_folder, exist_ok=True)\n",
        "\n",
        "# 📄 מיקום מלא לשמירת הקובץ\n",
        "destination_path = os.path.join(save_folder, filename)\n",
        "\n",
        "# 🚿 הורדה בזרימה (streaming)\n",
        "print(f\"התחל הורדה של: {filename}...\\nאנא המתן עד לסיום.\")\n",
        "\n",
        "with requests.get(file_url, stream=True) as r:\n",
        "    r.raise_for_status()\n",
        "    with open(destination_path, 'wb') as f:\n",
        "        for chunk in r.iter_content(chunk_size=8192):\n",
        "            if chunk:\n",
        "                f.write(chunk)\n",
        "\n",
        "print(f\"\\n✔️ הקובץ נשמר בהצלחה בתיקייה: הורד לדרייב\\n📁 שם הקובץ: {filename}\")\n"
      ],
      "metadata": {
        "colab": {
          "base_uri": "https://localhost:8080/"
        },
        "id": "bNmlPNfDOT9I",
        "outputId": "0df7ac1d-615d-408a-e2dc-faaa4f8f393e",
        "cellView": "form"
      },
      "execution_count": 4,
      "outputs": [
        {
          "output_type": "stream",
          "name": "stdout",
          "text": [
            "התחל הורדה של: video-format-factory-5-58.apk...\n",
            "אנא המתן עד לסיום.\n",
            "\n",
            "✔️ הקובץ נשמר בהצלחה בתיקייה: הורד לדרייב\n",
            "📁 שם הקובץ: video-format-factory-5-58.apk\n"
          ]
        }
      ]
    }
  ]
}